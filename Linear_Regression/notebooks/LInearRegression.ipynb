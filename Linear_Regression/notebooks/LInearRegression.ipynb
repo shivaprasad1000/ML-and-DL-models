{
 "cells": [
  {
   "cell_type": "code",
   "execution_count": 1,
   "id": "ebff795d",
   "metadata": {},
   "outputs": [],
   "source": [
    "import numpy as np\n",
    "import pandas as pd\n",
    "import matplotlib.pyplot as plt\n",
    "import pickle"
   ]
  },
  {
   "cell_type": "code",
   "execution_count": 2,
   "id": "d7b526ed",
   "metadata": {},
   "outputs": [],
   "source": [
    "train_data = pd.read_csv('/workspaces/codespaces-jupyter/data/train.csv')\n",
    "test_data = pd.read_csv('/workspaces/codespaces-jupyter/data/test.csv')"
   ]
  },
  {
   "cell_type": "code",
   "execution_count": 3,
   "id": "f0a706c4",
   "metadata": {},
   "outputs": [],
   "source": [
    "train_data = train_data.dropna()\n",
    "test_data = test_data.dropna()"
   ]
  },
  {
   "cell_type": "code",
   "execution_count": 4,
   "id": "49106b48",
   "metadata": {},
   "outputs": [
    {
     "data": {
      "text/html": [
       "<div>\n",
       "<style scoped>\n",
       "    .dataframe tbody tr th:only-of-type {\n",
       "        vertical-align: middle;\n",
       "    }\n",
       "\n",
       "    .dataframe tbody tr th {\n",
       "        vertical-align: top;\n",
       "    }\n",
       "\n",
       "    .dataframe thead th {\n",
       "        text-align: right;\n",
       "    }\n",
       "</style>\n",
       "<table border=\"1\" class=\"dataframe\">\n",
       "  <thead>\n",
       "    <tr style=\"text-align: right;\">\n",
       "      <th></th>\n",
       "      <th>x</th>\n",
       "      <th>y</th>\n",
       "    </tr>\n",
       "  </thead>\n",
       "  <tbody>\n",
       "    <tr>\n",
       "      <th>0</th>\n",
       "      <td>24.0</td>\n",
       "      <td>21.549452</td>\n",
       "    </tr>\n",
       "    <tr>\n",
       "      <th>1</th>\n",
       "      <td>50.0</td>\n",
       "      <td>47.464463</td>\n",
       "    </tr>\n",
       "    <tr>\n",
       "      <th>2</th>\n",
       "      <td>15.0</td>\n",
       "      <td>17.218656</td>\n",
       "    </tr>\n",
       "    <tr>\n",
       "      <th>3</th>\n",
       "      <td>38.0</td>\n",
       "      <td>36.586398</td>\n",
       "    </tr>\n",
       "    <tr>\n",
       "      <th>4</th>\n",
       "      <td>87.0</td>\n",
       "      <td>87.288984</td>\n",
       "    </tr>\n",
       "  </tbody>\n",
       "</table>\n",
       "</div>"
      ],
      "text/plain": [
       "      x          y\n",
       "0  24.0  21.549452\n",
       "1  50.0  47.464463\n",
       "2  15.0  17.218656\n",
       "3  38.0  36.586398\n",
       "4  87.0  87.288984"
      ]
     },
     "execution_count": 4,
     "metadata": {},
     "output_type": "execute_result"
    }
   ],
   "source": [
    "train_data.head()"
   ]
  },
  {
   "cell_type": "code",
   "execution_count": 5,
   "id": "3e2ec11a",
   "metadata": {},
   "outputs": [
    {
     "data": {
      "text/plain": [
       "<matplotlib.collections.PathCollection at 0x72ac83b352b0>"
      ]
     },
     "execution_count": 5,
     "metadata": {},
     "output_type": "execute_result"
    },
    {
     "data": {
      "image/png": "[encoded data removed]",
      "text/plain": [
       "<Figure size 640x480 with 1 Axes>"
      ]
     },
     "metadata": {},
     "output_type": "display_data"
    }
   ],
   "source": [
    "plt.scatter(x=train_data['x'], y=train_data['y'], color='blue', label='Training Data')"
   ]
  },
  {
   "cell_type": "code",
   "execution_count": 6,
   "id": "61c3842c",
   "metadata": {},
   "outputs": [],
   "source": [
    "X_train = train_data['x'].values\n",
    "y_train = train_data['y'].values\n",
    "\n",
    "X_test = test_data['x'].values\n",
    "y_test = test_data['y'].values"
   ]
  },
  {
   "cell_type": "code",
   "execution_count": 7,
   "id": "ed444b50",
   "metadata": {},
   "outputs": [],
   "source": [
    "def standardise_data(X_train, X_test):\n",
    "    ''''''\n",
    "    mean = np.mean(X_train,axis=0)\n",
    "    std = np.std(X_train,axis=0)\n",
    "\n",
    "    X_train = (X_train - mean) / std\n",
    "    X_test = (X_test - mean) / std\n",
    "\n",
    "    return X_train, X_test\n",
    "\n",
    "X_train, X_test = standardise_data(X_train, X_test)"
   ]
  },
  {
   "cell_type": "code",
   "execution_count": 8,
   "id": "61791a25",
   "metadata": {},
   "outputs": [],
   "source": [
    "'''ML models expect 2D arrays or 2D input data,but\n",
    "the current data is 1D. Hence we need to reshape it'''\n",
    "X_train = np.expand_dims(X_train, axis=-1)\n",
    "X_test = np.expand_dims(X_test, axis=-1)"
   ]
  },
  {
   "cell_type": "code",
   "execution_count": 9,
   "id": "d702fcfb",
   "metadata": {},
   "outputs": [],
   "source": [
    "class LinearRegression:\n",
    "    '''linear regression model with gradient descent \n",
    "    we are not using the sklearn library. We are going to implement the linear regression from scratch'''\n",
    "    def __init__(self,learning_rate, convergence_tol = 1e-6):\n",
    "        self.learning_rate = learning_rate\n",
    "        self.convergence_tol = convergence_tol\n",
    "        self.W = None\n",
    "        self.b = None\n",
    "\n",
    "    def initialize_parameters(self, n_features):\n",
    "        '''initialize the weights and bias'''\n",
    "        self.W = np.random.randn(n_features, )*0.01\n",
    "        self.b = 0.0\n",
    "\n",
    "    def forward(self, X):\n",
    "        '''forward pass to compute the predictions'''\n",
    "        return np.dot(X, self.W) + self.b\n",
    "    \n",
    "    def compute_cost(self, predictions):\n",
    "        '''compute the loss using mean squared error'''\n",
    "        m = len(predictions)\n",
    "        cost = np.sum(np.square(predictions - self.y))/(2*m)\n",
    "        return cost;\n",
    "\n",
    "    def backward(self, predictions):\n",
    "        '''compute gradients for model parameters\n",
    "           parameters:\n",
    "            predictions(numpy.ndarray): Predictions of shape(m,)\n",
    "            \n",
    "           updates:\n",
    "            numpy.ndarray: Gradient of W\n",
    "            float: Gradient of b.'''\n",
    "        \n",
    "        m = len(predictions)\n",
    "        self.dW = np.dot(predictions - self.y, self.X)/m\n",
    "        self.db = np.sum(predictions - self.y)/m\n",
    "\n",
    "    def fit(self, X, y, iterations, plot_cost=True):\n",
    "        '''fit the linear regression model to the training data\n",
    "           parameters:\n",
    "            X (numpy.ndarray): training input data of shape(m,n_features)\n",
    "            y (numpy.ndarray): training labels of shape(m,)\n",
    "            iterations (int): the number of iterations for gradient.\n",
    "            plot_cost(bool,optional): whether to plot the cost during training.Defaults to True.\n",
    "            Raises:\n",
    "                AssertionError: if input data and labels are not numpy or have mismatched shapes.\n",
    "                \n",
    "            plots:\n",
    "                matplotlib line chart showing cost vs iteration (if plot_cost is True)'''\n",
    "        \n",
    "        assert isinstance(X, np.ndarray), \"X should be a numpy array\"\n",
    "        assert isinstance(y, np.ndarray), \"y should be a numpy array\"\n",
    "\n",
    "        assert X.shape[0] == y.shape[0], \"X and y must have the same number of samples\"\n",
    "\n",
    "        assert iterations > 0, \"Iterations must be a positive integer\"\n",
    "\n",
    "        self.X = X\n",
    "        self.y = y\n",
    "        self.initialize_parameters(X.shape[1])\n",
    "        costs = []\n",
    "\n",
    "        for i in range(iterations):\n",
    "            predictions = self.forward(X)\n",
    "            cost = self.compute_cost(predictions)\n",
    "            \n",
    "\n",
    "            self.backward(predictions)\n",
    "\n",
    "            self.W -= self.learning_rate * self.dW\n",
    "            self.b -= self.learning_rate * self.db\n",
    "            costs.append(cost)\n",
    "\n",
    "            if i % 100 == 0:\n",
    "                print(f\"Cost at iteration {i}: {cost}\")\n",
    "\n",
    "            if i > 0 and abs(costs[-1] - costs[-2]) < self.convergence_tol:\n",
    "                print(f\"Convergence reached at iteration {i}\")\n",
    "                break\n",
    "\n",
    "        if plot_cost:\n",
    "            plt.plot(costs, label='Cost')\n",
    "            plt.xlabel('Iterations')\n",
    "            plt.ylabel('Cost')\n",
    "            plt.title('Cost vs Iterations')\n",
    "            plt.legend()\n",
    "            plt.show()\n",
    "                \n",
    "\n",
    "    def predict(self, X):\n",
    "        '''\n",
    "            predict target values for new input data\n",
    "            \n",
    "            parameters:\n",
    "                X (numpy.ndarray): input data of shape (m, n_features)\n",
    "                \n",
    "            Returns:\n",
    "                numpy.ndarray; predicted target values of shape(m,)'''\n",
    "        \n",
    "        return self.forward(X)\n",
    "    \n",
    "    def save_model(self, filename=None):\n",
    "        '''\n",
    "            save the trained model to a file using pickle\n",
    "\n",
    "            parameters:\n",
    "                filename(str): the name of the file to save the model\n",
    "\n",
    "        '''\n",
    "        model_data = {\n",
    "            'learning_rate' : self.learning_rate,\n",
    "            'convergence_tol': self.convergence_tol,\n",
    "            'W' : self.W,\n",
    "            'b' : self.b    \n",
    "        }\n",
    "        with open(filename, 'wb') as file:\n",
    "            pickle.dump(model_data, file)\n",
    "\n",
    "    @classmethod\n",
    "    def load_model(cls, filename):\n",
    "        '''\n",
    "           load a trained model from a file using pickle\n",
    "           parameters:\n",
    "              filename (str); the name of the file to load the model from \n",
    "\n",
    "            returns :\n",
    "              LinearRegression : an instance of the LinearRegression class with loaded parameters \n",
    "        '''\n",
    "        with open(filename, 'rb') as file:\n",
    "            model_data = pickle.load(file)\n",
    "        loaded_model = cls(model_data['learning_rate'], model_data['convergence_tol'])\n",
    "        loaded_model.W = model_data['W']\n",
    "        loaded_model.b = model_data['b']\n",
    "        return loaded_model"
   ]
  },
  {
   "cell_type": "code",
   "execution_count": 13,
   "id": "a517e242",
   "metadata": {},
   "outputs": [
    {
     "name": "stdout",
     "output_type": "stream",
     "text": [
      "Cost at iteration 0: 1670.210579599553\n",
      "Cost at iteration 100: 227.18108728927223\n",
      "Cost at iteration 200: 33.844465099091124\n",
      "Cost at iteration 300: 7.941287319913943\n",
      "Cost at iteration 400: 4.470787983271819\n",
      "Cost at iteration 500: 4.005811610553723\n",
      "Cost at iteration 600: 3.943514227320317\n",
      "Cost at iteration 700: 3.935167644170206\n",
      "Cost at iteration 800: 3.9340493716735794\n",
      "Convergence reached at iteration 863\n"
     ]
    },
    {
     "data": {
      "image/png": "[encoded data removed]",
      "text/plain": [
       "<Figure size 640x480 with 1 Axes>"
      ]
     },
     "metadata": {},
     "output_type": "display_data"
    }
   ],
   "source": [
    "lr = LinearRegression(0.01)\n",
    "lr.fit(X_train, y_train,1000)"
   ]
  },
  {
   "cell_type": "code",
   "execution_count": 17,
   "id": "df01ef47",
   "metadata": {},
   "outputs": [],
   "source": [
    "lr.save_model('model.pkl')\n",
    "model = LinearRegression.load_model('model.pkl')"
   ]
  },
  {
   "cell_type": "code",
   "execution_count": 18,
   "id": "fb632aed",
   "metadata": {},
   "outputs": [],
   "source": [
    "class RegressionMetrics:\n",
    "    @staticmethod\n",
    "    def mean_squared_error(y_true, y_pred):\n",
    "        '''\n",
    "            calculate the mean squared error(MSE),\n",
    "            Args :\n",
    "               y_true(numpy.ndarray): the true target values.\n",
    "               y_pred(numpy.ndarray): the predicted target values.\n",
    "\n",
    "            Returns :\n",
    "               float: the mean squared error.\n",
    "        '''\n",
    "        assert len(y_true) == len(y_pred), \"y_true and y_pred must have the same length\"\n",
    "        mse = np.mean((y_true - y_pred) ** 2)\n",
    "        return mse\n",
    "    \n",
    "    def root_mean_squared_error(y_true, y_pred):\n",
    "        '''\n",
    "            calculate the root mean squared error(RMSE),\n",
    "            Args :\n",
    "               y_true(numpy.ndarray): the true target values.\n",
    "               y_pred(numpy.ndarray): the predicted target values.\n",
    "\n",
    "            Returns :\n",
    "               float: the root mean squared error.\n",
    "        '''\n",
    "        assert len(y_true) == len(y_pred), \"y_true and y_pred must have the same length\"\n",
    "        mse = RegressionMetrics.mean_squared_error(y_true, y_pred)\n",
    "        rmse = np.sqrt(mse)\n",
    "        return rmse\n",
    "    \n",
    "    def r_squared(y_true, y_pred):\n",
    "        '''\n",
    "            calculate the R-squared score,\n",
    "            Args :\n",
    "               y_true(numpy.ndarray): the true target values.\n",
    "               y_pred(numpy.ndarray): the predicted target values.\n",
    "\n",
    "            Returns :\n",
    "               float: the R-squared score.\n",
    "        '''\n",
    "        assert len(y_true) == len(y_pred), \"y_true and y_pred must have the same length\"\n",
    "        ss_total = np.sum((y_true - np.mean(y_true)) ** 2)\n",
    "        ss_residual = np.sum((y_true - y_pred) ** 2)\n",
    "        r_squared = 1 - (ss_residual / ss_total)\n",
    "        return r_squared\n"
   ]
  },
  {
   "cell_type": "code",
   "execution_count": 19,
   "id": "134c47f6",
   "metadata": {},
   "outputs": [
    {
     "name": "stdout",
     "output_type": "stream",
     "text": [
      "mean squared error: 9.442670546338519\n",
      "root mean squared error: 3.072892862814862\n",
      "R-squared: 0.9887898714032023\n"
     ]
    }
   ],
   "source": [
    "y_pred = model.predict(X_test)\n",
    "mse_value = RegressionMetrics.mean_squared_error(y_test, y_pred)\n",
    "rmse_value = RegressionMetrics.root_mean_squared_error(y_test, y_pred)\n",
    "r2_value = RegressionMetrics.r_squared(y_test, y_pred)\n",
    "\n",
    "print(f\"mean squared error: {mse_value}\")\n",
    "print(f\"root mean squared error: {rmse_value}\")\n",
    "print(f\"R-squared: {r2_value}\")"
   ]
  },
  {
   "cell_type": "code",
   "execution_count": null,
   "id": "2f714eb1",
   "metadata": {},
   "outputs": [],
   "source": []
  }
 ],
 "metadata": {
  "kernelspec": {
   "display_name": "Python 3",
   "language": "python",
   "name": "python3"
  },
  "language_info": {
   "codemirror_mode": {
    "name": "ipython",
    "version": 3
   },
   "file_extension": ".py",
   "mimetype": "text/x-python",
   "name": "python",
   "nbconvert_exporter": "python",
   "pygments_lexer": "ipython3",
   "version": "3.12.1"
  }
 },
 "nbformat": 4,
 "nbformat_minor": 5
}
